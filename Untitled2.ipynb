{
  "nbformat": 4,
  "nbformat_minor": 0,
  "metadata": {
    "colab": {
      "name": "Untitled2.ipynb",
      "provenance": [],
      "authorship_tag": "ABX9TyO5eyv44emEFyuF/8sjqURh"
    },
    "kernelspec": {
      "name": "python3",
      "display_name": "Python 3"
    },
    "language_info": {
      "name": "python"
    }
  },
  "cells": [
    {
      "cell_type": "code",
      "execution_count": 122,
      "metadata": {
        "id": "1M0hoNAczDzz"
      },
      "outputs": [],
      "source": [
        "data = [['Ivan', 25, 4, 50, 1], \n",
        "        ['Petr', 40, 9, 250, 8], \n",
        "        ['Nikolay', 19, 12, 25, 1], \n",
        "        ['Sergey', 33, 6, 115, 6],\n",
        "        ['Andrey', 38, 2, 152, 4],\n",
        "        ['Ilya', 20, 18, 15, 2],\n",
        "        ['Igor', 19, 2, 10, 1]]\n",
        "import pandas as pd\n",
        "_df = pd.DataFrame(data, columns=['name', 'age', 'clicks', 'balance', 'history'], index=list('abcdefg'))"
      ]
    },
    {
      "cell_type": "code",
      "source": [
        "_df.where(_df.balance > 100, _df.balance = 0, inplace=True)\n",
        "#mask = _df[_df['balance'] < 100]\n",
        "#df.balance = 0\n",
        "#mask = _df.balance < 100\n",
        "#df = _df.where(cond=_df.balance < 100, 0, _df.balance)"
      ],
      "metadata": {
        "colab": {
          "base_uri": "https://localhost:8080/",
          "height": 133
        },
        "id": "tePwnrpx7Kqd",
        "outputId": "f49e25e1-8bd5-472b-bce3-8de3dab0dc4d"
      },
      "execution_count": 126,
      "outputs": [
        {
          "output_type": "error",
          "ename": "SyntaxError",
          "evalue": "ignored",
          "traceback": [
            "\u001b[0;36m  File \u001b[0;32m\"<ipython-input-126-d8ae81257ae9>\"\u001b[0;36m, line \u001b[0;32m1\u001b[0m\n\u001b[0;31m    _df.where(_df.balance > 100, _df.balance = 0, inplace=True)\u001b[0m\n\u001b[0m                                ^\u001b[0m\n\u001b[0;31mSyntaxError\u001b[0m\u001b[0;31m:\u001b[0m keyword can't be an expression\n"
          ]
        }
      ]
    },
    {
      "cell_type": "code",
      "source": [
        "_df(mask).balance = 0"
      ],
      "metadata": {
        "colab": {
          "base_uri": "https://localhost:8080/",
          "height": 169
        },
        "id": "kviy1jVm9XcN",
        "outputId": "825276a4-61bc-4aa0-9840-9f9abb396a9e"
      },
      "execution_count": 117,
      "outputs": [
        {
          "output_type": "error",
          "ename": "TypeError",
          "evalue": "ignored",
          "traceback": [
            "\u001b[0;31m---------------------------------------------------------------------------\u001b[0m",
            "\u001b[0;31mTypeError\u001b[0m                                 Traceback (most recent call last)",
            "\u001b[0;32m<ipython-input-117-961e9c6d5de7>\u001b[0m in \u001b[0;36m<module>\u001b[0;34m()\u001b[0m\n\u001b[0;32m----> 1\u001b[0;31m \u001b[0m_df\u001b[0m\u001b[0;34m(\u001b[0m\u001b[0mmask\u001b[0m\u001b[0;34m)\u001b[0m\u001b[0;34m.\u001b[0m\u001b[0mbalance\u001b[0m \u001b[0;34m=\u001b[0m \u001b[0;36m0\u001b[0m\u001b[0;34m\u001b[0m\u001b[0;34m\u001b[0m\u001b[0m\n\u001b[0m",
            "\u001b[0;31mTypeError\u001b[0m: 'DataFrame' object is not callable"
          ]
        }
      ]
    }
  ]
}